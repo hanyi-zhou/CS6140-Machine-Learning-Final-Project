{
 "cells": [
  {
   "cell_type": "code",
   "execution_count": 5,
   "metadata": {},
   "outputs": [
    {
     "name": "stdout",
     "output_type": "stream",
     "text": [
      "Extraction complete.\n"
     ]
    }
   ],
   "source": [
    "import zipfile\n",
    "\n",
    "# Define the path to the zip file and the directory to extract to\n",
    "zip_file_path = 'land_cover.zip'\n",
    "extract_to_path = './'\n",
    "\n",
    "# Create a ZipFile object and extract all contents\n",
    "with zipfile.ZipFile(zip_file_path, 'r') as zip_ref:\n",
    "    zip_ref.extractall(extract_to_path)\n",
    "\n",
    "print(\"Extraction complete.\")"
   ]
  },
  {
   "cell_type": "code",
   "execution_count": 23,
   "metadata": {},
   "outputs": [
    {
     "data": {
      "image/png": "[encoded data removed]",
      "text/plain": [
       "<Figure size 720x360 with 2 Axes>"
      ]
     },
     "metadata": {
      "needs_background": "light"
     },
     "output_type": "display_data"
    },
    {
     "name": "stdout",
     "output_type": "stream",
     "text": [
      "Image land_cover/dynamic_world_image_1.tif has a significant amount of black pixels.\n"
     ]
    }
   ],
   "source": [
    "import rasterio\n",
    "import numpy as np\n",
    "import matplotlib.pyplot as plt\n",
    "\n",
    "# Function to extract TIFF image\n",
    "def extract_tiff(image_path):\n",
    "    with rasterio.open(image_path) as src:\n",
    "        red_band = src.read(1)\n",
    "        green_band = src.read(2)\n",
    "        blue_band = src.read(3)\n",
    "\n",
    "        rgb_img = np.dstack((red_band, green_band, blue_band))\n",
    "\n",
    "    return rgb_img\n",
    "\n",
    "# Function to detect black color\n",
    "def detect_black(image, tolerance=0.1):\n",
    "    red_channel = image[:, :, 0]\n",
    "    green_channel = image[:, :, 1]\n",
    "    blue_channel = image[:, :, 2]\n",
    "\n",
    "    mask = np.all([\n",
    "        red_channel <= tolerance,\n",
    "        green_channel <= tolerance,\n",
    "        blue_channel <= tolerance\n",
    "    ], axis=0)\n",
    "\n",
    "    black_pixels_ratio = np.sum(mask) / mask.size\n",
    "\n",
    "    return mask, black_pixels_ratio\n",
    "\n",
    "# Load the image\n",
    "image_path = 'land_cover/dynamic_world_image_1.tif'\n",
    "image = extract_tiff(image_path)\n",
    "\n",
    "# Detect black pixels\n",
    "mask, black_pixels_ratio = detect_black(image)\n",
    "\n",
    "# Display the results\n",
    "plt.figure(figsize=(10, 5))\n",
    "\n",
    "plt.subplot(1, 2, 1)\n",
    "plt.imshow(image)\n",
    "plt.title('Original Image')\n",
    "plt.axis('off')\n",
    "\n",
    "plt.subplot(1, 2, 2)\n",
    "plt.imshow(mask, cmap='gray')\n",
    "plt.title('Black Pixels Mask')\n",
    "plt.axis('off')\n",
    "\n",
    "plt.suptitle(f'Black pixels ratio: {black_pixels_ratio:.2f}')\n",
    "plt.show()\n",
    "\n",
    "if black_pixels_ratio > 0.01:\n",
    "    print(f\"Image {image_path} has a significant amount of black pixels.\")\n",
    "else:\n",
    "    print(f\"Image {image_path} does not have a significant amount of black pixels.\")"
   ]
  },
  {
   "cell_type": "code",
   "execution_count": 25,
   "metadata": {},
   "outputs": [
    {
     "name": "stdout",
     "output_type": "stream",
     "text": [
      "Processed 1000 images\n",
      "Processed 2000 images\n",
      "Processed 3000 images\n",
      "Processed 4000 images\n",
      "Processed 5000 images\n",
      "Processed 6000 images\n",
      "Processed 7000 images\n",
      "Processed 8000 images\n",
      "Processed 9000 images\n",
      "Processed 10000 images\n",
      "Processed 11000 images\n",
      "Processed 12000 images\n",
      "Processed 13000 images\n",
      "Processed 14000 images\n",
      "Processed 15000 images\n",
      "Processed 16000 images\n",
      "Processed 17000 images\n",
      "Processed 18000 images\n",
      "Processed 19000 images\n",
      "Processed 20000 images\n",
      "Processed 21000 images\n",
      "Processed 22000 images\n",
      "Processed 23000 images\n",
      "Processed 24000 images\n",
      "Processed 25000 images\n",
      "Processed 26000 images\n",
      "Processed 27000 images\n",
      "Processed 28000 images\n",
      "Processed 29000 images\n",
      "Processed 30000 images\n",
      "Processed 31000 images\n",
      "Processed 32000 images\n",
      "Processed 33000 images\n",
      "Processed 34000 images\n",
      "Processed 35000 images\n",
      "Processed 36000 images\n",
      "Processed 37000 images\n",
      "Processed 38000 images\n",
      "Processed 39000 images\n",
      "Processed 40000 images\n",
      "Processed 41000 images\n",
      "Processed 42000 images\n",
      "Processed 43000 images\n",
      "Processed 44000 images\n",
      "Processed 45000 images\n",
      "Processed 46000 images\n",
      "Processed 47000 images\n",
      "Processed 48000 images\n",
      "Processed 49000 images\n",
      "Processed 50000 images\n",
      "Processed 51000 images\n",
      "Processed 52000 images\n",
      "Processed 53000 images\n",
      "Processed 54000 images\n",
      "Processed 55000 images\n",
      "Processed 56000 images\n",
      "Processed 57000 images\n",
      "Processed 58000 images\n",
      "Processing complete\n"
     ]
    }
   ],
   "source": [
    "import os\n",
    "import shutil\n",
    "import rasterio\n",
    "import numpy as np\n",
    "import matplotlib.pyplot as plt\n",
    "\n",
    "# Function to extract TIFF image\n",
    "def extract_tiff(image_path):\n",
    "    with rasterio.open(image_path) as src:\n",
    "        red_band = src.read(1)\n",
    "        green_band = src.read(2)\n",
    "        blue_band = src.read(3)\n",
    "\n",
    "        rgb_img = np.dstack((red_band, green_band, blue_band))\n",
    "\n",
    "    return rgb_img\n",
    "\n",
    "# Function to detect black color\n",
    "def detect_black(image, tolerance=0.1):\n",
    "    red_channel = image[:, :, 0]\n",
    "    green_channel = image[:, :, 1]\n",
    "    blue_channel = image[:, :, 2]\n",
    "\n",
    "    mask = np.all([\n",
    "        red_channel <= tolerance,\n",
    "        green_channel <= tolerance,\n",
    "        blue_channel <= tolerance\n",
    "    ], axis=0)\n",
    "\n",
    "    black_pixels_ratio = np.sum(mask) / mask.size\n",
    "\n",
    "    return mask, black_pixels_ratio\n",
    "\n",
    "# Define input and output directories\n",
    "input_dir = 'land_cover'\n",
    "output_dir = 'new_land_cover'\n",
    "\n",
    "# Create the output directory if it doesn't exist\n",
    "if not os.path.exists(output_dir):\n",
    "    os.makedirs(output_dir)\n",
    "\n",
    "# Process each TIFF image in the input directory\n",
    "count = 0\n",
    "for filename in os.listdir(input_dir):\n",
    "    if filename.endswith('.tif'):\n",
    "        image_path = os.path.join(input_dir, filename)\n",
    "        image = extract_tiff(image_path)\n",
    "\n",
    "        # Detect black pixels\n",
    "        _, black_pixels_ratio = detect_black(image)\n",
    "\n",
    "        # Check if the image has a significant amount of black pixels\n",
    "        if black_pixels_ratio <= 0.01:\n",
    "            new_image_path = os.path.join(output_dir, filename)\n",
    "            shutil.copy(image_path, new_image_path)\n",
    "        \n",
    "        count += 1\n",
    "        if count % 1000 == 0:\n",
    "            print(f\"Processed {count} images\")\n",
    "\n",
    "print(\"Processing complete\")"
   ]
  },
  {
   "cell_type": "code",
   "execution_count": 28,
   "metadata": {},
   "outputs": [
    {
     "name": "stdout",
     "output_type": "stream",
     "text": [
      "Directory new_land_cover has been compressed into new_land_cover_compressed.zip\n"
     ]
    }
   ],
   "source": [
    "import shutil\n",
    "import os\n",
    "\n",
    "# Define the directory to be zipped\n",
    "dir_to_zip = 'new_land_cover'\n",
    "\n",
    "# Define the name of the output zip file\n",
    "output_filename = 'new_land_cover_compressed'\n",
    "\n",
    "# Ensure the directory exists\n",
    "if not os.path.exists(dir_to_zip):\n",
    "    print(f\"Directory {dir_to_zip} does not exist.\")\n",
    "else:\n",
    "    # Create the zip file\n",
    "    shutil.make_archive(output_filename, 'zip', dir_to_zip)\n",
    "    print(f\"Directory {dir_to_zip} has been compressed into {output_filename}.zip\")\n"
   ]
  },
  {
   "cell_type": "code",
   "execution_count": 34,
   "metadata": {},
   "outputs": [
    {
     "name": "stdout",
     "output_type": "stream",
     "text": [
      "There are 41289 files in the new_land_cover directory.\n"
     ]
    }
   ],
   "source": [
    "import os\n",
    "\n",
    "# Define the input directory\n",
    "input_dir = 'new_land_cover'\n",
    "\n",
    "# Count the number of files in the input directory\n",
    "file_count = len([name for name in os.listdir(input_dir) if os.path.isfile(os.path.join(input_dir, name))])\n",
    "\n",
    "print(f\"There are {file_count} files in the {input_dir} directory.\")"
   ]
  },
  {
   "cell_type": "code",
   "execution_count": 36,
   "metadata": {},
   "outputs": [
    {
     "name": "stdout",
     "output_type": "stream",
     "text": [
      "Processed 1000 files.\n",
      "Processed 2000 files.\n",
      "Processed 3000 files.\n",
      "Processed 4000 files.\n",
      "Processed 9000 files.\n",
      "Processed 10000 files.\n",
      "Processed 12000 files.\n",
      "Processed 13000 files.\n",
      "Processed 15000 files.\n",
      "Processed 16000 files.\n",
      "Processed 17000 files.\n",
      "Processed 18000 files.\n",
      "Processed 22000 files.\n",
      "Processed 23000 files.\n",
      "Processed 25000 files.\n",
      "Processed 28000 files.\n",
      "Processed 29000 files.\n",
      "Processed 30000 files.\n",
      "Processed 31000 files.\n",
      "Processed 32000 files.\n",
      "Processed 34000 files.\n",
      "Processed 37000 files.\n",
      "Processed 40000 files.\n",
      "Processed 43000 files.\n",
      "Processed 45000 files.\n",
      "Processed 46000 files.\n",
      "Processed 47000 files.\n",
      "Processed 49000 files.\n",
      "Processed 50000 files.\n",
      "Processed 53000 files.\n",
      "Processed 54000 files.\n",
      "Processed 55000 files.\n",
      "Processed 56000 files.\n",
      "Processed 57000 files.\n",
      "Processed 61000 files.\n",
      "Processed 62000 files.\n",
      "Processing complete.\n",
      "There are 41289 files in the land_cover_new directory.\n"
     ]
    }
   ],
   "source": [
    "import pandas as pd\n",
    "import os\n",
    "import shutil\n",
    "\n",
    "# Read the metadata CSV file\n",
    "metadata = pd.read_csv('metadata.csv', header=None)\n",
    "\n",
    "# Define the input and output directories\n",
    "input_dir = 'new_land_cover'\n",
    "output_dir = 'land_cover_new'\n",
    "\n",
    "# Create the output directory if it doesn't exist\n",
    "if not os.path.exists(output_dir):\n",
    "    os.makedirs(output_dir)\n",
    "\n",
    "# Log file to keep track of missing files\n",
    "log_file_path = 'missing_files.log'\n",
    "\n",
    "# Clear log file if it exists\n",
    "if os.path.exists(log_file_path):\n",
    "    os.remove(log_file_path)\n",
    "\n",
    "# Loop through each row in the metadata and copy/rename the corresponding file\n",
    "for index, row in metadata.iterrows():\n",
    "    # Construct the original filename based on the index\n",
    "    original_filename = f\"dynamic_world_image_{index + 1}.tif\"\n",
    "    original_filepath = os.path.join(input_dir, original_filename)\n",
    "    \n",
    "    # Construct the new filename\n",
    "    new_filename = f\"{row[0]}-{row[1]}.tif\"\n",
    "    new_filepath = os.path.join(output_dir, new_filename)\n",
    "    \n",
    "    # Copy and rename the file if it exists\n",
    "    if os.path.exists(original_filepath):\n",
    "        shutil.copy(original_filepath, new_filepath)\n",
    "        if (index + 1) % 1000 == 0:\n",
    "            print(f\"Processed {index + 1} files.\")\n",
    "    else:\n",
    "        # Log missing files\n",
    "        with open(log_file_path, 'a') as log_file:\n",
    "            log_file.write(f\"Missing file: {original_filename}\\n\")\n",
    "\n",
    "print(\"Processing complete.\")\n",
    "\n",
    "# Check the number of files in the output directory\n",
    "output_file_count = len([name for name in os.listdir(output_dir) if os.path.isfile(os.path.join(output_dir, name))])\n",
    "print(f\"There are {output_file_count} files in the {output_dir} directory.\")\n"
   ]
  },
  {
   "cell_type": "code",
   "execution_count": 37,
   "metadata": {},
   "outputs": [
    {
     "name": "stdout",
     "output_type": "stream",
     "text": [
      "Directory land_cover_new has been compressed into land_cover_new.zip\n"
     ]
    }
   ],
   "source": [
    "import shutil\n",
    "import os\n",
    "\n",
    "# Define the directory to be zipped\n",
    "dir_to_zip = 'land_cover_new'\n",
    "\n",
    "# Define the name of the output zip file\n",
    "output_filename = 'land_cover_new'\n",
    "\n",
    "# Ensure the directory exists\n",
    "if not os.path.exists(dir_to_zip):\n",
    "    print(f\"Directory {dir_to_zip} does not exist.\")\n",
    "else:\n",
    "    # Create the zip file\n",
    "    shutil.make_archive(output_filename, 'zip', dir_to_zip)\n",
    "    print(f\"Directory {dir_to_zip} has been compressed into {output_filename}.zip\")\n"
   ]
  },
  {
   "cell_type": "code",
   "execution_count": 38,
   "metadata": {},
   "outputs": [
    {
     "name": "stdout",
     "output_type": "stream",
     "text": [
      "Sampling complete.\n"
     ]
    }
   ],
   "source": [
    "import os\n",
    "import shutil\n",
    "import re\n",
    "\n",
    "# Define the input and output directories\n",
    "input_dir = 'land_cover_new'\n",
    "output_dir = 'land_cover_sample'\n",
    "\n",
    "# Create the output directory if it doesn't exist\n",
    "if not os.path.exists(output_dir):\n",
    "    os.makedirs(output_dir)\n",
    "\n",
    "# Dictionary to store the first image for each region\n",
    "first_images = {}\n",
    "\n",
    "# Regular expression to match the filename pattern\n",
    "pattern = re.compile(r\"(.+)-(\\d+)\\.tif\")\n",
    "\n",
    "# Loop through each file in the input directory\n",
    "for filename in os.listdir(input_dir):\n",
    "    if filename.endswith(\".tif\"):\n",
    "        match = pattern.match(filename)\n",
    "        if match:\n",
    "            region_name = match.group(1)\n",
    "            file_number = int(match.group(2))\n",
    "            \n",
    "            # If this region is not yet in the dictionary, add it\n",
    "            if region_name not in first_images:\n",
    "                first_images[region_name] = (filename, file_number)\n",
    "            else:\n",
    "                # Update to the lowest numbered file if found a smaller number\n",
    "                if file_number < first_images[region_name][1]:\n",
    "                    first_images[region_name] = (filename, file_number)\n",
    "\n",
    "# Copy the first image for each region to the output directory\n",
    "for region_name, (first_filename, _) in first_images.items():\n",
    "    original_filepath = os.path.join(input_dir, first_filename)\n",
    "    new_filepath = os.path.join(output_dir, first_filename)\n",
    "    shutil.copy(original_filepath, new_filepath)\n",
    "\n",
    "print(\"Sampling complete.\")\n"
   ]
  },
  {
   "cell_type": "code",
   "execution_count": 39,
   "metadata": {},
   "outputs": [
    {
     "name": "stdout",
     "output_type": "stream",
     "text": [
      "Directory land_cover_sample has been compressed into land_cover_sample.zip\n"
     ]
    }
   ],
   "source": [
    "import shutil\n",
    "import os\n",
    "\n",
    "# Define the directory to be zipped\n",
    "dir_to_zip = 'land_cover_sample'\n",
    "\n",
    "# Define the name of the output zip file\n",
    "output_filename = 'land_cover_sample'\n",
    "\n",
    "# Ensure the directory exists\n",
    "if not os.path.exists(dir_to_zip):\n",
    "    print(f\"Directory {dir_to_zip} does not exist.\")\n",
    "else:\n",
    "    # Create the zip file\n",
    "    shutil.make_archive(output_filename, 'zip', dir_to_zip)\n",
    "    print(f\"Directory {dir_to_zip} has been compressed into {output_filename}.zip\")\n"
   ]
  },
  {
   "cell_type": "code",
   "execution_count": null,
   "metadata": {},
   "outputs": [],
   "source": []
  }
 ],
 "metadata": {
  "kernelspec": {
   "display_name": "Python 3",
   "language": "python",
   "name": "python3"
  },
  "language_info": {
   "codemirror_mode": {
    "name": "ipython",
    "version": 3
   },
   "file_extension": ".py",
   "mimetype": "text/x-python",
   "name": "python",
   "nbconvert_exporter": "python",
   "pygments_lexer": "ipython3",
   "version": "3.7.6"
  }
 },
 "nbformat": 4,
 "nbformat_minor": 4
}
